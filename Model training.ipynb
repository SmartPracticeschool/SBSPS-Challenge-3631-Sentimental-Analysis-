{
  "nbformat": 4,
  "nbformat_minor": 0,
  "metadata": {
    "colab": {
      "name": "IBM Tweet Analyzer",
      "provenance": [],
      "collapsed_sections": []
    },
    "kernelspec": {
      "name": "python3",
      "display_name": "Python 3"
    },
    "accelerator": "GPU"
  },
  "cells": [
    {
      "cell_type": "code",
      "metadata": {
        "id": "bAQI5h_BOv26",
        "colab_type": "code",
        "colab": {}
      },
      "source": [
        "import numpy as np\n",
        "import pandas as pd\n",
        "import os,sys\n"
      ],
      "execution_count": 1,
      "outputs": []
    },
    {
      "cell_type": "code",
      "metadata": {
        "id": "sLkFkVL9Nd_4",
        "colab_type": "code",
        "colab": {}
      },
      "source": [
        "!pip install ktrain"
      ],
      "execution_count": null,
      "outputs": []
    },
    {
      "cell_type": "markdown",
      "metadata": {
        "id": "-VX7uwSQAoHf",
        "colab_type": "text"
      },
      "source": [
        "**Import Data**"
      ]
    },
    {
      "cell_type": "code",
      "metadata": {
        "id": "sOyw9yG4Ozpc",
        "colab_type": "code",
        "colab": {}
      },
      "source": [
        "df=pd.read_csv('/content/drive/My Drive/IBM data/train.csv')"
      ],
      "execution_count": 8,
      "outputs": []
    },
    {
      "cell_type": "markdown",
      "metadata": {
        "id": "6qWcxhO9CHU-",
        "colab_type": "text"
      },
      "source": [
        "**Split Data According to categories**"
      ]
    },
    {
      "cell_type": "markdown",
      "metadata": {
        "id": "YD-TFdCWH77e",
        "colab_type": "text"
      },
      "source": [
        "**Replace Empty/Nan Values With Zero**"
      ]
    },
    {
      "cell_type": "code",
      "metadata": {
        "id": "ZGn3D1DuSy_5",
        "colab_type": "code",
        "colab": {}
      },
      "source": [
        "df['sadness'] = df['sadness'].replace(np.nan, 0)\n",
        "df['fear'] = df['fear'].replace(np.nan, 0)\n",
        "df['anger'] = df['anger'].replace(np.nan, 0)\n",
        "df['joy'] = df['joy'].replace(np.nan, 0)\n",
        "df['confident'] = df['confident'].replace(np.nan, 0)\n",
        "df['analytical'] = df['analytical'].replace(np.nan, 0)"
      ],
      "execution_count": 9,
      "outputs": []
    },
    {
      "cell_type": "markdown",
      "metadata": {
        "id": "QFHY6A3vJUId",
        "colab_type": "text"
      },
      "source": [
        "**Data Split**"
      ]
    },
    {
      "cell_type": "markdown",
      "metadata": {
        "id": "ID4aVt9pJmw3",
        "colab_type": "text"
      },
      "source": [
        "Sadness"
      ]
    },
    {
      "cell_type": "code",
      "metadata": {
        "id": "ZDUx6Cn5VGUJ",
        "colab_type": "code",
        "colab": {}
      },
      "source": [
        "from sklearn.model_selection import train_test_split\n",
        "\n",
        "sadxtrain, sadxtest, sadytrain, sadytest = train_test_split(df['clean_text'], df['sadness'],shuffle=True)\n",
        "sadxtrain=sadxtrain.values\n",
        "sadytrain=sadytrain.values\n",
        "sadxtest=sadxtest.values\n",
        "sadytest=sadytest.values"
      ],
      "execution_count": 10,
      "outputs": []
    },
    {
      "cell_type": "markdown",
      "metadata": {
        "id": "tR2DX6dBJpnU",
        "colab_type": "text"
      },
      "source": [
        "Fear"
      ]
    },
    {
      "cell_type": "code",
      "metadata": {
        "id": "p1dPoXyxJolz",
        "colab_type": "code",
        "colab": {}
      },
      "source": [
        "fxtrain, fxtest, fytrain, fytest = train_test_split(df['clean_text'], df['fear'],shuffle=True)\n",
        "fxtrain=fxtrain.values\n",
        "fxtest=fxtest.values\n",
        "fytrain=fytrain.values\n",
        "fytest=fytest.values"
      ],
      "execution_count": 11,
      "outputs": []
    },
    {
      "cell_type": "markdown",
      "metadata": {
        "id": "YMjwSoTaLPDj",
        "colab_type": "text"
      },
      "source": [
        "Anger"
      ]
    },
    {
      "cell_type": "code",
      "metadata": {
        "id": "wRqwkpwRK9ym",
        "colab_type": "code",
        "colab": {}
      },
      "source": [
        "axtrain, axtest, aytrain, aytest = train_test_split(df['clean_text'], df['anger'],shuffle=True)\n",
        "axtrain=axtrain.values\n",
        "axtest=axtest.values\n",
        "aytrain=aytrain.values\n",
        "aytest=aytest.values"
      ],
      "execution_count": 12,
      "outputs": []
    },
    {
      "cell_type": "markdown",
      "metadata": {
        "id": "GUriqdKZLQVd",
        "colab_type": "text"
      },
      "source": [
        "Joy"
      ]
    },
    {
      "cell_type": "code",
      "metadata": {
        "id": "5b_Qu9cRLSs-",
        "colab_type": "code",
        "colab": {}
      },
      "source": [
        "jxtrain, jxtest, jytrain, jytest = train_test_split(df['clean_text'], df['joy'],shuffle=True)\n",
        "jxtrain=jxtrain.values\n",
        "jxtest=jxtest.values\n",
        "jytrain=jytrain.values\n",
        "jytest=jytest.values"
      ],
      "execution_count": 13,
      "outputs": []
    },
    {
      "cell_type": "markdown",
      "metadata": {
        "id": "BhG_5VdaLd0v",
        "colab_type": "text"
      },
      "source": [
        "Confident"
      ]
    },
    {
      "cell_type": "code",
      "metadata": {
        "id": "eDQKorVKLgSS",
        "colab_type": "code",
        "colab": {}
      },
      "source": [
        "cxtrain, cxtest, cytrain, cytest = train_test_split(df['clean_text'], df['confident'],shuffle=True)\n",
        "cxtrain=cxtrain.values\n",
        "cxtest=cxtest.values\n",
        "cytrain=cytrain.values\n",
        "cytest=cytest.values"
      ],
      "execution_count": 14,
      "outputs": []
    },
    {
      "cell_type": "markdown",
      "metadata": {
        "id": "qFZ9LAx4N_ej",
        "colab_type": "text"
      },
      "source": [
        "Analytical"
      ]
    },
    {
      "cell_type": "code",
      "metadata": {
        "id": "rgGzWlpyMqPI",
        "colab_type": "code",
        "colab": {}
      },
      "source": [
        "anlxtrain, anlxtest, anlytrain, anlytest = train_test_split(df['clean_text'], df['analytical'],shuffle=True)\n",
        "anlxtrain=anlxtrain.values\n",
        "anlxtest=anlxtest.values\n",
        "anlytrain=anlytrain.values\n",
        "anlytest=anlytest.values"
      ],
      "execution_count": 15,
      "outputs": []
    },
    {
      "cell_type": "code",
      "metadata": {
        "id": "70hTyx2_ZR2a",
        "colab_type": "code",
        "colab": {}
      },
      "source": [
        "import ktrain\n",
        "from ktrain import text\n",
        "MODEL_NAME = 'distilbert-base-uncased'\n"
      ],
      "execution_count": 21,
      "outputs": []
    },
    {
      "cell_type": "code",
      "metadata": {
        "id": "aFqhRs1iWkd0",
        "colab_type": "code",
        "colab": {}
      },
      "source": [
        "t = text.Transformer(MODEL_NAME, maxlen=100, class_names=['1','0'])\n",
        "trn = t.preprocess_train(sadxtrain, sadytrain)\n",
        "val = t.preprocess_test(sadxtest, sadytest)\n",
        "model = t.get_classifier()\n"
      ],
      "execution_count": null,
      "outputs": []
    },
    {
      "cell_type": "code",
      "metadata": {
        "id": "OM9VrdnvYGEZ",
        "colab_type": "code",
        "colab": {}
      },
      "source": [
        "learner = ktrain.get_learner(model, train_data=trn, val_data=val, batch_size=6)"
      ],
      "execution_count": null,
      "outputs": []
    },
    {
      "cell_type": "code",
      "metadata": {
        "id": "MsoKIZpypjGQ",
        "colab_type": "code",
        "colab": {
          "base_uri": "https://localhost:8080/",
          "height": 235
        },
        "outputId": "6ee043ef-c80c-44fa-c50e-d9934b1b324e"
      },
      "source": [
        "learner.fit_onecycle(8e-5, 4)"
      ],
      "execution_count": 26,
      "outputs": [
        {
          "output_type": "stream",
          "text": [
            "\n",
            "\n",
            "begin training using onecycle policy with max lr of 8e-05...\n",
            "Train for 938 steps, validate for 59 steps\n",
            "Epoch 1/4\n",
            "938/938 [==============================] - 186s 198ms/step - loss: 0.3817 - accuracy: 0.8443 - val_loss: 0.3373 - val_accuracy: 0.8640\n",
            "Epoch 2/4\n",
            "938/938 [==============================] - 172s 183ms/step - loss: 0.2984 - accuracy: 0.8812 - val_loss: 0.3276 - val_accuracy: 0.8613\n",
            "Epoch 3/4\n",
            "938/938 [==============================] - 172s 183ms/step - loss: 0.1979 - accuracy: 0.9212 - val_loss: 0.3597 - val_accuracy: 0.8715\n",
            "Epoch 4/4\n",
            "938/938 [==============================] - 172s 183ms/step - loss: 0.0534 - accuracy: 0.9829 - val_loss: 0.4160 - val_accuracy: 0.8635\n"
          ],
          "name": "stdout"
        },
        {
          "output_type": "execute_result",
          "data": {
            "text/plain": [
              "<tensorflow.python.keras.callbacks.History at 0x7f5ab01b44e0>"
            ]
          },
          "metadata": {
            "tags": []
          },
          "execution_count": 26
        }
      ]
    },
    {
      "cell_type": "code",
      "metadata": {
        "id": "Z6Jh_IJHr_xT",
        "colab_type": "code",
        "colab": {
          "base_uri": "https://localhost:8080/",
          "height": 202
        },
        "outputId": "62db1855-6e23-4c9f-9112-a55879bc33d6"
      },
      "source": [
        "learner.validate(class_names=t.get_classes())"
      ],
      "execution_count": 27,
      "outputs": [
        {
          "output_type": "stream",
          "text": [
            "              precision    recall  f1-score   support\n",
            "\n",
            "           1       0.92      0.92      0.92      1569\n",
            "           0       0.58      0.58      0.58       306\n",
            "\n",
            "    accuracy                           0.86      1875\n",
            "   macro avg       0.75      0.75      0.75      1875\n",
            "weighted avg       0.86      0.86      0.86      1875\n",
            "\n"
          ],
          "name": "stdout"
        },
        {
          "output_type": "execute_result",
          "data": {
            "text/plain": [
              "array([[1442,  127],\n",
              "       [ 129,  177]])"
            ]
          },
          "metadata": {
            "tags": []
          },
          "execution_count": 27
        }
      ]
    },
    {
      "cell_type": "code",
      "metadata": {
        "id": "bKtLCzZrsRxx",
        "colab_type": "code",
        "colab": {}
      },
      "source": [
        "predictor = ktrain.get_predictor(learner.model, preproc=t)"
      ],
      "execution_count": 28,
      "outputs": []
    },
    {
      "cell_type": "code",
      "metadata": {
        "id": "SSufto2SbE5V",
        "colab_type": "code",
        "colab": {}
      },
      "source": [
        "#import json\n",
        "model_json = learner.model.to_json()\n",
        "with open(\"sadmodel.json\", \"w\") as json_file:\n",
        "    json_file.write(model_json)\n",
        "\n",
        "learner.model.save_weights(\"model.h5\")\n",
        "print(\"Saved model to disk\")\n"
      ],
      "execution_count": null,
      "outputs": []
    },
    {
      "cell_type": "code",
      "metadata": {
        "id": "kJHI5qlbeUPV",
        "colab_type": "code",
        "colab": {}
      },
      "source": [
        "from keras.models import load_model\n",
        "newmodel=load_model('sadmodel.h5')"
      ],
      "execution_count": null,
      "outputs": []
    }
  ]
}