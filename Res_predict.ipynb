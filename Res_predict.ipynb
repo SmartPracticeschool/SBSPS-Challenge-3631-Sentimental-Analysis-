{
  "nbformat": 4,
  "nbformat_minor": 0,
  "metadata": {
    "colab": {
      "name": "Res predict.ipynb",
      "provenance": []
    },
    "kernelspec": {
      "name": "python3",
      "display_name": "Python 3"
    },
    "accelerator": "GPU"
  },
  "cells": [
    {
      "cell_type": "code",
      "metadata": {
        "id": "2jXTiUU_0v-6",
        "colab_type": "code",
        "colab": {}
      },
      "source": [
        "!pip install ktrain"
      ],
      "execution_count": null,
      "outputs": []
    },
    {
      "cell_type": "code",
      "metadata": {
        "id": "5PaskxNC1V-b",
        "colab_type": "code",
        "colab": {}
      },
      "source": [
        "import numpy as np\n",
        "import pandas as pd\n",
        "import os,sys\n",
        "import ktrain"
      ],
      "execution_count": 2,
      "outputs": []
    },
    {
      "cell_type": "code",
      "metadata": {
        "id": "coSd5t4V2Kg-",
        "colab_type": "code",
        "colab": {}
      },
      "source": [
        "analytical=ktrain.load_predictor('/content/drive/My Drive/IBM data/analytical pred')\n",
        "anger=ktrain.load_predictor('/content/drive/My Drive/IBM data/anger pred')\n",
        "confident=ktrain.load_predictor('/content/drive/My Drive/IBM data/confident pred')\n",
        "sadness=ktrain.load_predictor('/content/drive/My Drive/IBM data/sad pred')\n",
        "fear=ktrain.load_predictor('/content/drive/My Drive/IBM data/fear pred')\n",
        "joy=ktrain.load_predictor('/content/drive/My Drive/IBM data/joy pred')"
      ],
      "execution_count": 14,
      "outputs": []
    },
    {
      "cell_type": "code",
      "metadata": {
        "id": "KoWKdWdP2_hB",
        "colab_type": "code",
        "colab": {}
      },
      "source": [
        "pred=pd.read_csv('/content/drive/My Drive/IBM data/mar-april.csv')"
      ],
      "execution_count": 28,
      "outputs": []
    },
    {
      "cell_type": "code",
      "metadata": {
        "id": "X_XnC8DP8hoS",
        "colab_type": "code",
        "colab": {}
      },
      "source": [
        "pan=[]\n",
        "panger=[]\n",
        "pconfi=[]\n",
        "psad=[]\n",
        "pfear=[]\n",
        "pjoy=[]"
      ],
      "execution_count": 29,
      "outputs": []
    },
    {
      "cell_type": "code",
      "metadata": {
        "id": "U8qtHJiBMsqs",
        "colab_type": "code",
        "colab": {}
      },
      "source": [
        "#df=pd.DataFrame() \n",
        "#df.insert(0,\"text\",pred['text'][3480:],True)"
      ],
      "execution_count": 6,
      "outputs": []
    },
    {
      "cell_type": "code",
      "metadata": {
        "id": "m4OpNtgawigT",
        "colab_type": "code",
        "colab": {}
      },
      "source": [
        "import time"
      ],
      "execution_count": 30,
      "outputs": []
    },
    {
      "cell_type": "code",
      "metadata": {
        "id": "Ip-Zh5kHxCa_",
        "colab_type": "code",
        "colab": {}
      },
      "source": [
        "txt=pred['text'].tolist()"
      ],
      "execution_count": 31,
      "outputs": []
    },
    {
      "cell_type": "code",
      "metadata": {
        "id": "MYoPGnxD3YpG",
        "colab_type": "code",
        "colab": {
          "base_uri": "https://localhost:8080/",
          "height": 35
        },
        "outputId": "f4a4aa89-99b7-4d4f-ba38-0662b5546b24"
      },
      "source": [
        "st=time.time()\n",
        "\n",
        "pan=analytical.predict(txt)\n",
        "panger=anger.predict(txt)\n",
        "pconfi=confident.predict(txt)\n",
        "psad=sadness.predict(txt)\n",
        "pfear=fear.predict(txt)\n",
        "pjoy=joy.predict(txt)\n",
        "#print(pan,panger,pconfi,psad,pfear,pjoy)\n",
        "print(time.time()-st)"
      ],
      "execution_count": 33,
      "outputs": [
        {
          "output_type": "display_data",
          "data": {
            "text/html": [
              ""
            ],
            "text/plain": [
              "<IPython.core.display.HTML object>"
            ]
          },
          "metadata": {
            "tags": []
          }
        },
        {
          "output_type": "display_data",
          "data": {
            "text/html": [
              ""
            ],
            "text/plain": [
              "<IPython.core.display.HTML object>"
            ]
          },
          "metadata": {
            "tags": []
          }
        },
        {
          "output_type": "display_data",
          "data": {
            "text/html": [
              ""
            ],
            "text/plain": [
              "<IPython.core.display.HTML object>"
            ]
          },
          "metadata": {
            "tags": []
          }
        },
        {
          "output_type": "display_data",
          "data": {
            "text/html": [
              ""
            ],
            "text/plain": [
              "<IPython.core.display.HTML object>"
            ]
          },
          "metadata": {
            "tags": []
          }
        },
        {
          "output_type": "display_data",
          "data": {
            "text/html": [
              ""
            ],
            "text/plain": [
              "<IPython.core.display.HTML object>"
            ]
          },
          "metadata": {
            "tags": []
          }
        },
        {
          "output_type": "display_data",
          "data": {
            "text/html": [
              ""
            ],
            "text/plain": [
              "<IPython.core.display.HTML object>"
            ]
          },
          "metadata": {
            "tags": []
          }
        },
        {
          "output_type": "stream",
          "text": [
            "536.8765909671783\n"
          ],
          "name": "stdout"
        }
      ]
    },
    {
      "cell_type": "code",
      "metadata": {
        "id": "ioSWTAQiQEhc",
        "colab_type": "code",
        "colab": {
          "base_uri": "https://localhost:8080/",
          "height": 35
        },
        "outputId": "21a2e30f-a1d8-46dc-e052-1b8dc6338c1e"
      },
      "source": [
        "print(len(pan),len(panger),len(pconfi),len(psad),len(pfear),len(pjoy))\n",
        "#print(sum(pan),sum(panger),sum(pconfi),sum(psad),sum(pfear),sum(pjoy))"
      ],
      "execution_count": 34,
      "outputs": [
        {
          "output_type": "stream",
          "text": [
            "13219 13219 13219 13219 13219 13219\n"
          ],
          "name": "stdout"
        }
      ]
    },
    {
      "cell_type": "code",
      "metadata": {
        "id": "HKqeDQs7SDYY",
        "colab_type": "code",
        "colab": {}
      },
      "source": [
        "pred[\"analytics\"]=pd.Series(pan) \n",
        "pred[\"anger\"]=pd.Series(panger)\n",
        "pred[\"confident\"]= pd.Series(pconfi) \n",
        "pred[\"sadness\"]=pd.Series(psad) \n",
        "pred[\"fear\"]=pd.Series(pfear)\n",
        "pred[\"joy\"]=pd.Series(pjoy)  "
      ],
      "execution_count": 35,
      "outputs": []
    },
    {
      "cell_type": "code",
      "metadata": {
        "id": "NCWFyS34kS7s",
        "colab_type": "code",
        "colab": {
          "base_uri": "https://localhost:8080/",
          "height": 194
        },
        "outputId": "c6fec082-f5a6-44f3-ffe1-5f34ff91e328"
      },
      "source": [
        "pred.head()"
      ],
      "execution_count": 36,
      "outputs": [
        {
          "output_type": "execute_result",
          "data": {
            "text/html": [
              "<div>\n",
              "<style scoped>\n",
              "    .dataframe tbody tr th:only-of-type {\n",
              "        vertical-align: middle;\n",
              "    }\n",
              "\n",
              "    .dataframe tbody tr th {\n",
              "        vertical-align: top;\n",
              "    }\n",
              "\n",
              "    .dataframe thead th {\n",
              "        text-align: right;\n",
              "    }\n",
              "</style>\n",
              "<table border=\"1\" class=\"dataframe\">\n",
              "  <thead>\n",
              "    <tr style=\"text-align: right;\">\n",
              "      <th></th>\n",
              "      <th>timestamp</th>\n",
              "      <th>text</th>\n",
              "      <th>analytics</th>\n",
              "      <th>anger</th>\n",
              "      <th>confident</th>\n",
              "      <th>sadness</th>\n",
              "      <th>fear</th>\n",
              "      <th>joy</th>\n",
              "    </tr>\n",
              "  </thead>\n",
              "  <tbody>\n",
              "    <tr>\n",
              "      <th>0</th>\n",
              "      <td>15-03-2020 18:15</td>\n",
              "      <td>Prepare,but don't panic. \\n#SpreadAwareness ab...</td>\n",
              "      <td>0</td>\n",
              "      <td>0</td>\n",
              "      <td>0</td>\n",
              "      <td>0</td>\n",
              "      <td>1</td>\n",
              "      <td>0</td>\n",
              "    </tr>\n",
              "    <tr>\n",
              "      <th>1</th>\n",
              "      <td>15-03-2020 18:15</td>\n",
              "      <td>Must Listen. Loads of learning. #COVID2019 #CO...</td>\n",
              "      <td>1</td>\n",
              "      <td>0</td>\n",
              "      <td>1</td>\n",
              "      <td>0</td>\n",
              "      <td>0</td>\n",
              "      <td>0</td>\n",
              "    </tr>\n",
              "    <tr>\n",
              "      <th>2</th>\n",
              "      <td>15-03-2020 18:15</td>\n",
              "      <td>The Not-so Great Equaliser\\n#COVID19 #COVID19i...</td>\n",
              "      <td>0</td>\n",
              "      <td>0</td>\n",
              "      <td>0</td>\n",
              "      <td>0</td>\n",
              "      <td>0</td>\n",
              "      <td>0</td>\n",
              "    </tr>\n",
              "    <tr>\n",
              "      <th>3</th>\n",
              "      <td>15-03-2020 18:16</td>\n",
              "      <td>@BBMPCOMM  Sir, this is the time when water is...</td>\n",
              "      <td>0</td>\n",
              "      <td>0</td>\n",
              "      <td>0</td>\n",
              "      <td>0</td>\n",
              "      <td>1</td>\n",
              "      <td>0</td>\n",
              "    </tr>\n",
              "    <tr>\n",
              "      <th>4</th>\n",
              "      <td>15-03-2020 18:16</td>\n",
              "      <td>Nooooo one is safe from COVID19..</td>\n",
              "      <td>1</td>\n",
              "      <td>0</td>\n",
              "      <td>0</td>\n",
              "      <td>0</td>\n",
              "      <td>0</td>\n",
              "      <td>0</td>\n",
              "    </tr>\n",
              "  </tbody>\n",
              "</table>\n",
              "</div>"
            ],
            "text/plain": [
              "          timestamp                                               text  ... fear joy\n",
              "0  15-03-2020 18:15  Prepare,but don't panic. \\n#SpreadAwareness ab...  ...    1   0\n",
              "1  15-03-2020 18:15  Must Listen. Loads of learning. #COVID2019 #CO...  ...    0   0\n",
              "2  15-03-2020 18:15  The Not-so Great Equaliser\\n#COVID19 #COVID19i...  ...    0   0\n",
              "3  15-03-2020 18:16  @BBMPCOMM  Sir, this is the time when water is...  ...    1   0\n",
              "4  15-03-2020 18:16                  Nooooo one is safe from COVID19..  ...    0   0\n",
              "\n",
              "[5 rows x 8 columns]"
            ]
          },
          "metadata": {
            "tags": []
          },
          "execution_count": 36
        }
      ]
    },
    {
      "cell_type": "code",
      "metadata": {
        "id": "jsZrJNKFMWo2",
        "colab_type": "code",
        "colab": {}
      },
      "source": [
        "pred.to_csv('/content/drive/My Drive/IBM data/mar-april-predictedres1.csv', sep=',', encoding='utf-8')"
      ],
      "execution_count": 41,
      "outputs": []
    },
    {
      "cell_type": "code",
      "metadata": {
        "id": "J1Frp23p-Khm",
        "colab_type": "code",
        "colab": {
          "base_uri": "https://localhost:8080/",
          "height": 124
        },
        "outputId": "0c5c591b-63ff-4acf-c389-a89480313273"
      },
      "source": [
        "result=[pan,'Analytic',panger,'Anger',pconfi,'Confident',psad,'Sad',pfear,'Fear',pjoy,'Joy']\n",
        "for i in range(0,11,2):\n",
        "  res = map(lambda x:int(x),result[i])\n",
        "  print(result[i+1],'----->',sum(res)) "
      ],
      "execution_count": 44,
      "outputs": [
        {
          "output_type": "stream",
          "text": [
            "Analytic -----> 3529\n",
            "Anger -----> 2933\n",
            "Confident -----> 2477\n",
            "Sad -----> 1084\n",
            "Fear -----> 787\n",
            "Joy -----> 1166\n"
          ],
          "name": "stdout"
        }
      ]
    }
  ]
}