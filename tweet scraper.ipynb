{
 "cells": [
  {
   "cell_type": "code",
   "execution_count": null,
   "metadata": {
    "tags": []
   },
   "outputs": [],
   "source": [
    "from twitterscraper import query_tweets\n",
    "import datetime as dt\n",
    "import pandas as pd\n",
    "\n",
    "\n"
   ]
  },
  {
   "cell_type": "code",
   "execution_count": null,
   "metadata": {},
   "outputs": [],
   "source": [
    "bg_time = dt.date(2020,5,31)\n",
    "ed_time = dt.date(2020,6,24)\n",
    "# begindate=bg_time,enddate=ed_time\n",
    "language = 'english'\n"
   ]
  },
  {
   "cell_type": "code",
   "execution_count": null,
   "metadata": {
    "tags": []
   },
   "outputs": [],
   "source": [
    "tweets= query_tweets('covid19 india',begindate=bg_time,enddate=ed_time,lang=language)"
   ]
  },
  {
   "cell_type": "code",
   "execution_count": null,
   "metadata": {},
   "outputs": [],
   "source": [
    "tweets= pd.DataFrame(t.__dict__ for t in tweets)"
   ]
  },
  {
   "cell_type": "code",
   "execution_count": null,
   "metadata": {},
   "outputs": [],
   "source": [
    "tweets.to_csv('tweets-5-june.csv',index=False)"
   ]
  },
  {
   "cell_type": "code",
   "execution_count": null,
   "metadata": {
    "tags": []
   },
   "outputs": [],
   "source": [
    "t1=13210\n",
    "t2=13078\n",
    "t3=12981\n",
    "print('Analytic:' ,(3529/t1),'|    |',(3229/t2),'|    |',(3383/t3))\n",
    "print()\n",
    "print('Anger:' ,(2933/t1),'|    |',(2529/t2),'|    |',(2383/t3))\n",
    "print()\n",
    "print('Confident:' ,(2477/t1),'|    |',(2494/t2),'|    |',(2508/t3))\n",
    "print()\n",
    "print('Sad: ',(1084/t1),'|    |',(1188/t2),'|    |',(1250/t3))\n",
    "print()\n",
    "print('Fear: ',(787/t1),'|    |',(669/t2),'|    |',(682/t3))\n",
    "print()\n",
    "print('Joy: ',(1166/t1),'|    |',(1361/t2),'|    |',(1331/t3))"
   ]
  },
  {
   "cell_type": "code",
   "execution_count": null,
   "metadata": {},
   "outputs": [],
   "source": [
    "tcases = pd.read_csv('daily cases.csv')"
   ]
  },
  {
   "cell_type": "code",
   "execution_count": null,
   "metadata": {},
   "outputs": [],
   "source": [
    "tcases=tcases.drop_duplicates(subset=['date'],keep='last')"
   ]
  },
  {
   "cell_type": "code",
   "execution_count": null,
   "metadata": {},
   "outputs": [],
   "source": [
    "tcases['date'].describe()"
   ]
  },
  {
   "cell_type": "code",
   "execution_count": 47,
   "metadata": {},
   "outputs": [],
   "source": [
    "tcases.to_csv(\"daily cases.csv\",index=False)"
   ]
  }
 ],
 "metadata": {
  "language_info": {
   "codemirror_mode": {
    "name": "ipython",
    "version": 3
   },
   "file_extension": ".py",
   "mimetype": "text/x-python",
   "name": "python",
   "nbconvert_exporter": "python",
   "pygments_lexer": "ipython3",
   "version": "3.7.3-final"
  },
  "orig_nbformat": 2,
  "kernelspec": {
   "name": "python3",
   "display_name": "Python 3"
  }
 },
 "nbformat": 4,
 "nbformat_minor": 2
}